{
 "cells": [
  {
   "cell_type": "code",
   "execution_count": null,
   "metadata": {},
   "outputs": [],
   "source": [
    "import json\n",
    "from datetime import datetime\n",
    "\n",
    "with open('./sources/data.json') as f:\n",
    "    data = json.load(f)\n",
    "result = []\n",
    "for date, value in data:\n",
    "    date = datetime.utcfromtimestamp(int(str(date).rstrip('0'))).date()\n",
    "    value = int(value)\n",
    "    print(date, value)\n",
    "    result.append({'date': str(date), 'value': value})\n",
    "\n",
    "# ## Write the result to a new JSON file\n",
    "with open('./sources/data_edited_date_utc.json', 'w') as f:\n",
    "    json.dump(result, f)"
   ]
  },
  {
   "cell_type": "code",
   "execution_count": 47,
   "metadata": {},
   "outputs": [],
   "source": [
    "import json\n",
    "from datetime import datetime\n",
    "\n",
    "with open('./sources/data.json') as f:\n",
    "    data = json.load(f)\n",
    "result = []\n",
    "for date, value in data:\n",
    "    # date = int(str(date).rstrip('0'))\n",
    "    value = int(value)\n",
    "    # print(date, value)\n",
    "    result.append({'date': str(date), 'value': value, 'value2': int(value * 0.2)})\n",
    "\n",
    "# ## Write the result to a new JSON file\n",
    "with open('./sources/data_edited_value2.json', 'w') as f:\n",
    "    json.dump(result, f)"
   ]
  },
  {
   "cell_type": "code",
   "execution_count": null,
   "metadata": {},
   "outputs": [],
   "source": []
  },
  {
   "cell_type": "code",
   "execution_count": 4,
   "metadata": {},
   "outputs": [],
   "source": [
    "\n",
    "import duckdb\n",
    "from pathlib import Path\n",
    "\n",
    "def concat_parquet_to_duckdb(folder_path, output_file='sec.duckdb'):\n",
    "    files = list(Path(folder_path).glob('*.parquet'))\n",
    "    if Path(output_file).suffix != '.duckdb':\n",
    "        output_file += '.duckdb'\n",
    "\n",
    "    con = duckdb.connect(database=output_file)\n",
    "    cur = con.cursor()\n",
    "\n",
    "    # create and populate 'all_data' table\n",
    "    cur.execute(\"\"\"CREATE TABLE IF NOT EXISTS main AS SELECT \n",
    "                    accession_number,\n",
    "                    cik,\n",
    "                    cik_name,\n",
    "                    cik_ticker,\n",
    "                    cik_ticker_name,\n",
    "                    cusip,\n",
    "                    name_of_issuer,\n",
    "                    cusip_ticker,\n",
    "                    cusip_ticker_name,\n",
    "                    quarter, \n",
    "                    rdate,    \n",
    "                    shares,\n",
    "                    value \n",
    "    FROM parquet_scan('{}')\"\"\".format(files[0]))\n",
    "\n",
    "    # cur.execute(\"CREATE INDEX IF NOT EXISTS idx_accession_number ON main (cik, quarter, cusip, accession_number)\")\n",
    "    \n",
    "    for file in files[1:]:\n",
    "        cur.execute(\"\"\"INSERT INTO main SELECT \n",
    "        accession_number,\n",
    "        cik,\n",
    "        cik_name,\n",
    "        cik_ticker,\n",
    "        cik_ticker_name,\n",
    "        cusip,\n",
    "        name_of_issuer,\n",
    "        cusip_ticker,\n",
    "        cusip_ticker_name,\n",
    "        quarter, \n",
    "        rdate,    \n",
    "        shares,\n",
    "        value \n",
    "    FROM parquet_scan('{}')\"\"\".format(file))\n",
    "\n",
    "    # create and populate 'all_cusip' table\n",
    "    cur.execute(\"\"\"\n",
    "        CREATE TABLE IF NOT EXISTS all_cusip AS \n",
    "        SELECT cik, cusip, SUM(value) AS value, accession_number, quarter, rdate\n",
    "        FROM main\n",
    "        WHERE accession_number<>'SYNTHETIC-CLOSE'\n",
    "        GROUP BY cik, cusip, quarter, accession_number, rdate\n",
    "    \"\"\")\n",
    "\n",
    "    cur.close()\n",
    "    con.close()\n",
    "    \n",
    "# call the function\n",
    "# concat_parquet_to_duckdb('/Users/yo_macbook/Documents/app_data/test_cik_consolidated_to')\n"
   ]
  },
  {
   "cell_type": "code",
   "execution_count": 5,
   "metadata": {},
   "outputs": [
    {
     "name": "stdout",
     "output_type": "stream",
     "text": [
      "CPU times: user 2.14 s, sys: 199 ms, total: 2.33 s\n",
      "Wall time: 2.06 s\n"
     ]
    }
   ],
   "source": [
    "%%time\n",
    "parquet_folder = Path(r'/Users/yo_macbook/Documents/app_data/test_parq')\n",
    "output_file = r'/Users/yo_macbook/Documents/app_data/TR_05_TEST_FINAL_DB_PARQ_ARROW/sec.duckdb'\n",
    "\n",
    "concat_parquet_to_duckdb(parquet_folder, output_file)\n",
    "\n",
    "#  12 sec, - 759 Mb from 83 parquet files of 110 MB"
   ]
  },
  {
   "cell_type": "code",
   "execution_count": 2,
   "metadata": {},
   "outputs": [],
   "source": [
    "import duckdb\n",
    "con = duckdb.connect(database=r'/Users/yo_macbook/Documents/app_data/TR_05_TEST_FINAL_DB_PARQ_ARROW/sec.duckdb')\n",
    "cur = con.cursor()\n",
    "cur.close()\n",
    "con.close()"
   ]
  },
  {
   "cell_type": "code",
   "execution_count": null,
   "metadata": {},
   "outputs": [],
   "source": [
    "accession_number,\n",
    "cik,\n",
    "cik_name,\n",
    "cik_ticker,\n",
    "cik_ticker_name,\n",
    "cusip, \n",
    "cusip_ticker,\n",
    "cusip_ticker_name,\n",
    "quarter, \n",
    "rdate,    \n",
    "shares,\n",
    "value "
   ]
  }
 ],
 "metadata": {
  "kernelspec": {
   "display_name": "Python 3 (ipykernel)",
   "language": "python",
   "name": "python3"
  },
  "language_info": {
   "codemirror_mode": {
    "name": "ipython",
    "version": 3
   },
   "file_extension": ".py",
   "mimetype": "text/x-python",
   "name": "python",
   "nbconvert_exporter": "python",
   "pygments_lexer": "ipython3",
   "version": "3.10.9"
  }
 },
 "nbformat": 4,
 "nbformat_minor": 4
}
